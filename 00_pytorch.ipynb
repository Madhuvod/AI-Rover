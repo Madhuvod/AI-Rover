{
  "nbformat": 4,
  "nbformat_minor": 0,
  "metadata": {
    "colab": {
      "provenance": [],
      "gpuType": "T4",
      "authorship_tag": "ABX9TyNZEE/CjZKUnU+jXT8GmFpC",
      "include_colab_link": true
    },
    "kernelspec": {
      "name": "python3",
      "display_name": "Python 3"
    },
    "language_info": {
      "name": "python"
    },
    "accelerator": "GPU"
  },
  "cells": [
    {
      "cell_type": "markdown",
      "metadata": {
        "id": "view-in-github",
        "colab_type": "text"
      },
      "source": [
        "<a href=\"https://colab.research.google.com/github/Madhuvod/AI-Rover/blob/main/00_pytorch.ipynb\" target=\"_parent\"><img src=\"https://colab.research.google.com/assets/colab-badge.svg\" alt=\"Open In Colab\"/></a>"
      ]
    },
    {
      "cell_type": "code",
      "execution_count": 1,
      "metadata": {
        "colab": {
          "base_uri": "https://localhost:8080/",
          "height": 35
        },
        "id": "SdEVrC-Vmrzi",
        "outputId": "691f2b08-795b-4aaa-8136-cbecdd9d331e"
      },
      "outputs": [
        {
          "output_type": "execute_result",
          "data": {
            "text/plain": [
              "'2.3.0+cu121'"
            ],
            "application/vnd.google.colaboratory.intrinsic+json": {
              "type": "string"
            }
          },
          "metadata": {},
          "execution_count": 1
        }
      ],
      "source": [
        "import torch\n",
        "torch.__version__"
      ]
    },
    {
      "cell_type": "code",
      "source": [
        "#import torch\n",
        "#print(\"CUDA available:\", torch.cuda.is_available())\n",
        "#print(\"Current device:\", torch.cuda.get_device_name(0))"
      ],
      "metadata": {
        "id": "eGbwv5Qlox7L"
      },
      "execution_count": 2,
      "outputs": []
    },
    {
      "cell_type": "code",
      "source": [
        "!nvidia-smi"
      ],
      "metadata": {
        "colab": {
          "base_uri": "https://localhost:8080/"
        },
        "id": "S1H637nHo0Fx",
        "outputId": "db23e002-46d2-46c8-a8b2-d52549322027"
      },
      "execution_count": 3,
      "outputs": [
        {
          "output_type": "stream",
          "name": "stdout",
          "text": [
            "Thu Jul 11 08:58:12 2024       \n",
            "+---------------------------------------------------------------------------------------+\n",
            "| NVIDIA-SMI 535.104.05             Driver Version: 535.104.05   CUDA Version: 12.2     |\n",
            "|-----------------------------------------+----------------------+----------------------+\n",
            "| GPU  Name                 Persistence-M | Bus-Id        Disp.A | Volatile Uncorr. ECC |\n",
            "| Fan  Temp   Perf          Pwr:Usage/Cap |         Memory-Usage | GPU-Util  Compute M. |\n",
            "|                                         |                      |               MIG M. |\n",
            "|=========================================+======================+======================|\n",
            "|   0  Tesla T4                       Off | 00000000:00:04.0 Off |                    0 |\n",
            "| N/A   54C    P8              11W /  70W |      0MiB / 15360MiB |      0%      Default |\n",
            "|                                         |                      |                  N/A |\n",
            "+-----------------------------------------+----------------------+----------------------+\n",
            "                                                                                         \n",
            "+---------------------------------------------------------------------------------------+\n",
            "| Processes:                                                                            |\n",
            "|  GPU   GI   CI        PID   Type   Process name                            GPU Memory |\n",
            "|        ID   ID                                                             Usage      |\n",
            "|=======================================================================================|\n",
            "|  No running processes found                                                           |\n",
            "+---------------------------------------------------------------------------------------+\n"
          ]
        }
      ]
    },
    {
      "cell_type": "code",
      "source": [
        "import torch\n",
        "import pandas as pd\n",
        "import matplotlib.pyplot as plt\n",
        "import numpy as np\n"
      ],
      "metadata": {
        "id": "PQy9OhFOphT-"
      },
      "execution_count": 4,
      "outputs": []
    },
    {
      "cell_type": "code",
      "source": [
        "torch.tensor([[1., -1.], [1., -1.]])"
      ],
      "metadata": {
        "colab": {
          "base_uri": "https://localhost:8080/"
        },
        "id": "oGCtMiK5qQnP",
        "outputId": "5944afea-66cd-4afd-f9a0-cf82690ebf61"
      },
      "execution_count": 5,
      "outputs": [
        {
          "output_type": "execute_result",
          "data": {
            "text/plain": [
              "tensor([[ 1., -1.],\n",
              "        [ 1., -1.]])"
            ]
          },
          "metadata": {},
          "execution_count": 5
        }
      ]
    },
    {
      "cell_type": "code",
      "source": [
        "scalar = torch.tensor(7)\n",
        "scalar"
      ],
      "metadata": {
        "colab": {
          "base_uri": "https://localhost:8080/"
        },
        "id": "DVzYOh5H4axz",
        "outputId": "99cdd1f1-9314-43d0-a763-7ab92fa68ec0"
      },
      "execution_count": 6,
      "outputs": [
        {
          "output_type": "execute_result",
          "data": {
            "text/plain": [
              "tensor(7)"
            ]
          },
          "metadata": {},
          "execution_count": 6
        }
      ]
    },
    {
      "cell_type": "code",
      "source": [
        "scalar.item()"
      ],
      "metadata": {
        "colab": {
          "base_uri": "https://localhost:8080/"
        },
        "id": "9T9gC6AZ4gM7",
        "outputId": "65ffc3e4-0446-4e3d-8deb-f7ded2fada55"
      },
      "execution_count": 7,
      "outputs": [
        {
          "output_type": "execute_result",
          "data": {
            "text/plain": [
              "7"
            ]
          },
          "metadata": {},
          "execution_count": 7
        }
      ]
    },
    {
      "cell_type": "code",
      "source": [
        "Yessur = torch.tensor([[[3,5, 76],\n",
        "               [43,9,322],\n",
        "               [65,1,4],\n",
        "                [44,3, 0]],[[3,5, 76],\n",
        "               [43,9,322],\n",
        "               [65,1,4],\n",
        "                [44,3, 0]]])"
      ],
      "metadata": {
        "id": "Z-N8U5jZ4gVN"
      },
      "execution_count": 8,
      "outputs": []
    },
    {
      "cell_type": "code",
      "source": [
        "Yessur.shape"
      ],
      "metadata": {
        "colab": {
          "base_uri": "https://localhost:8080/"
        },
        "id": "jQtbD8KzC9hv",
        "outputId": "a5a05246-e941-4d89-b4c0-d4f45bad26d6"
      },
      "execution_count": 9,
      "outputs": [
        {
          "output_type": "execute_result",
          "data": {
            "text/plain": [
              "torch.Size([2, 4, 3])"
            ]
          },
          "metadata": {},
          "execution_count": 9
        }
      ]
    },
    {
      "cell_type": "code",
      "source": [
        "dubster = torch.ones([1,4])\n",
        "dubster"
      ],
      "metadata": {
        "colab": {
          "base_uri": "https://localhost:8080/"
        },
        "id": "dJnGGnNwC9yr",
        "outputId": "51c5025a-d110-48eb-c624-597300822e8d"
      },
      "execution_count": 10,
      "outputs": [
        {
          "output_type": "execute_result",
          "data": {
            "text/plain": [
              "tensor([[1., 1., 1., 1.]])"
            ]
          },
          "metadata": {},
          "execution_count": 10
        }
      ]
    },
    {
      "cell_type": "code",
      "source": [
        "dubster.dtype\n"
      ],
      "metadata": {
        "colab": {
          "base_uri": "https://localhost:8080/"
        },
        "id": "k24RztOGLyfI",
        "outputId": "105f2969-54ca-4564-c8ac-1d16dc3006da"
      },
      "execution_count": 11,
      "outputs": [
        {
          "output_type": "execute_result",
          "data": {
            "text/plain": [
              "torch.float32"
            ]
          },
          "metadata": {},
          "execution_count": 11
        }
      ]
    },
    {
      "cell_type": "code",
      "source": [
        "water = torch.arange(start = 69, end=87, step=2)\n",
        "water"
      ],
      "metadata": {
        "colab": {
          "base_uri": "https://localhost:8080/"
        },
        "id": "xZC_LaYNLyh8",
        "outputId": "6d4ea95a-4fff-462b-a628-3a7858e59774"
      },
      "execution_count": 12,
      "outputs": [
        {
          "output_type": "execute_result",
          "data": {
            "text/plain": [
              "tensor([69, 71, 73, 75, 77, 79, 81, 83, 85])"
            ]
          },
          "metadata": {},
          "execution_count": 12
        }
      ]
    },
    {
      "cell_type": "code",
      "source": [
        "water_zeros = torch.zeros_like(input=water)\n",
        "water_zeros"
      ],
      "metadata": {
        "colab": {
          "base_uri": "https://localhost:8080/"
        },
        "id": "meHPsh7eMNrB",
        "outputId": "c994cf56-c36c-433c-f6f8-65e226031b38"
      },
      "execution_count": 13,
      "outputs": [
        {
          "output_type": "execute_result",
          "data": {
            "text/plain": [
              "tensor([0, 0, 0, 0, 0, 0, 0, 0, 0])"
            ]
          },
          "metadata": {},
          "execution_count": 13
        }
      ]
    },
    {
      "cell_type": "code",
      "source": [
        "float_32 = torch.tensor([4,5,22], dtype =None, device=None, requires_grad=False)\n",
        "float_32"
      ],
      "metadata": {
        "colab": {
          "base_uri": "https://localhost:8080/"
        },
        "id": "bxena75_MzCv",
        "outputId": "764660a7-ae8e-460c-cd24-2803ae1c1918"
      },
      "execution_count": 14,
      "outputs": [
        {
          "output_type": "execute_result",
          "data": {
            "text/plain": [
              "tensor([ 4,  5, 22])"
            ]
          },
          "metadata": {},
          "execution_count": 14
        }
      ]
    },
    {
      "cell_type": "code",
      "source": [
        "float_16 = float_32.type(torch.half)\n",
        "float_16"
      ],
      "metadata": {
        "colab": {
          "base_uri": "https://localhost:8080/"
        },
        "id": "AA9sa_FhPTdd",
        "outputId": "f045f486-f6c9-4744-948a-c4c928ce6b25"
      },
      "execution_count": 15,
      "outputs": [
        {
          "output_type": "execute_result",
          "data": {
            "text/plain": [
              "tensor([ 4.,  5., 22.], dtype=torch.float16)"
            ]
          },
          "metadata": {},
          "execution_count": 15
        }
      ]
    },
    {
      "cell_type": "code",
      "source": [
        "info_tensor = torch.tensor([[3,7,3],\n",
        "                           [6,88,2]], dtype = torch.half)\n",
        "info_tensor"
      ],
      "metadata": {
        "colab": {
          "base_uri": "https://localhost:8080/"
        },
        "id": "eOuvVL3QPdoL",
        "outputId": "172bb1d0-a91e-4772-9ab2-3ce741ed2e94"
      },
      "execution_count": 16,
      "outputs": [
        {
          "output_type": "execute_result",
          "data": {
            "text/plain": [
              "tensor([[ 3.,  7.,  3.],\n",
              "        [ 6., 88.,  2.]], dtype=torch.float16)"
            ]
          },
          "metadata": {},
          "execution_count": 16
        }
      ]
    },
    {
      "cell_type": "code",
      "source": [
        "print(info_tensor.device, info_tensor.shape, info_tensor.dtype)"
      ],
      "metadata": {
        "colab": {
          "base_uri": "https://localhost:8080/"
        },
        "id": "poGrwt-xRpdP",
        "outputId": "89969d94-47c5-4c24-9090-cf9845e95ee4"
      },
      "execution_count": 17,
      "outputs": [
        {
          "output_type": "stream",
          "name": "stdout",
          "text": [
            "cpu torch.Size([2, 3]) torch.float16\n"
          ]
        }
      ]
    },
    {
      "cell_type": "code",
      "source": [
        "tensor = torch.tensor([22, 33, 44])\n",
        "tensor.size()"
      ],
      "metadata": {
        "colab": {
          "base_uri": "https://localhost:8080/"
        },
        "id": "r6f85pqWR6O8",
        "outputId": "157b6644-60fc-4b9c-9574-ea6b110c6e05"
      },
      "execution_count": 18,
      "outputs": [
        {
          "output_type": "execute_result",
          "data": {
            "text/plain": [
              "torch.Size([3])"
            ]
          },
          "metadata": {},
          "execution_count": 18
        }
      ]
    },
    {
      "cell_type": "code",
      "source": [
        "tensor + 50"
      ],
      "metadata": {
        "colab": {
          "base_uri": "https://localhost:8080/"
        },
        "id": "DVt5PlnKcfvL",
        "outputId": "0ee34d9d-913e-488c-ff74-b76e7be94c55"
      },
      "execution_count": 19,
      "outputs": [
        {
          "output_type": "execute_result",
          "data": {
            "text/plain": [
              "tensor([72, 83, 94])"
            ]
          },
          "metadata": {},
          "execution_count": 19
        }
      ]
    },
    {
      "cell_type": "code",
      "source": [
        "tensor * 10"
      ],
      "metadata": {
        "colab": {
          "base_uri": "https://localhost:8080/"
        },
        "id": "UH30QPhtcJq6",
        "outputId": "0f3f3115-bcb4-46df-9305-d1731958f661"
      },
      "execution_count": 20,
      "outputs": [
        {
          "output_type": "execute_result",
          "data": {
            "text/plain": [
              "tensor([220, 330, 440])"
            ]
          },
          "metadata": {},
          "execution_count": 20
        }
      ]
    },
    {
      "cell_type": "code",
      "source": [
        "tensor = torch.multiply(tensor,10)\n",
        "tensor"
      ],
      "metadata": {
        "colab": {
          "base_uri": "https://localhost:8080/"
        },
        "id": "iAJKO7O7cJwR",
        "outputId": "2e5adde6-fcf7-4cc1-a5e2-f06bde542b31"
      },
      "execution_count": 21,
      "outputs": [
        {
          "output_type": "execute_result",
          "data": {
            "text/plain": [
              "tensor([220, 330, 440])"
            ]
          },
          "metadata": {},
          "execution_count": 21
        }
      ]
    },
    {
      "cell_type": "code",
      "source": [
        "#matrix multiplication\n",
        "matmul_tensor = torch.tensor([3, 6, 9])\n",
        "matmul_tensor"
      ],
      "metadata": {
        "colab": {
          "base_uri": "https://localhost:8080/"
        },
        "id": "sPrQb7mUcJz2",
        "outputId": "085e242c-fe91-4448-9e80-6e45777f2ba0"
      },
      "execution_count": 22,
      "outputs": [
        {
          "output_type": "execute_result",
          "data": {
            "text/plain": [
              "tensor([3, 6, 9])"
            ]
          },
          "metadata": {},
          "execution_count": 22
        }
      ]
    },
    {
      "cell_type": "markdown",
      "source": [],
      "metadata": {
        "id": "qL11ghnxouR1"
      }
    },
    {
      "cell_type": "code",
      "source": [
        "kalki = torch.rand(2,3)\n",
        "kalki\n"
      ],
      "metadata": {
        "colab": {
          "base_uri": "https://localhost:8080/"
        },
        "id": "9_sZGClZddO_",
        "outputId": "2e11c5b0-85b9-416a-9692-97a783c0c1c7"
      },
      "execution_count": 23,
      "outputs": [
        {
          "output_type": "execute_result",
          "data": {
            "text/plain": [
              "tensor([[0.4968, 0.0385, 0.5577],\n",
              "        [0.3545, 0.8661, 0.5686]])"
            ]
          },
          "metadata": {},
          "execution_count": 23
        }
      ]
    },
    {
      "cell_type": "code",
      "source": [
        "kalki.dtype, tensor.dtype"
      ],
      "metadata": {
        "colab": {
          "base_uri": "https://localhost:8080/"
        },
        "id": "pjcSrKh6ddSh",
        "outputId": "1f96a0e7-a77d-4df9-c50b-4499a683ece7"
      },
      "execution_count": 24,
      "outputs": [
        {
          "output_type": "execute_result",
          "data": {
            "text/plain": [
              "(torch.float32, torch.int64)"
            ]
          },
          "metadata": {},
          "execution_count": 24
        }
      ]
    },
    {
      "cell_type": "code",
      "source": [
        "kali = torch.tensor([[0.4],[0.2],[0.3]])\n",
        "torch.matmul(kali , kalki)"
      ],
      "metadata": {
        "colab": {
          "base_uri": "https://localhost:8080/",
          "height": 162
        },
        "id": "X8UkbLU0ddXN",
        "outputId": "de9ba4a8-30a1-406a-bd9a-c69c96d3fdab"
      },
      "execution_count": 25,
      "outputs": [
        {
          "output_type": "error",
          "ename": "RuntimeError",
          "evalue": "mat1 and mat2 shapes cannot be multiplied (3x1 and 2x3)",
          "traceback": [
            "\u001b[0;31m---------------------------------------------------------------------------\u001b[0m",
            "\u001b[0;31mRuntimeError\u001b[0m                              Traceback (most recent call last)",
            "\u001b[0;32m<ipython-input-25-6a2a89f864fb>\u001b[0m in \u001b[0;36m<cell line: 2>\u001b[0;34m()\u001b[0m\n\u001b[1;32m      1\u001b[0m \u001b[0mkali\u001b[0m \u001b[0;34m=\u001b[0m \u001b[0mtorch\u001b[0m\u001b[0;34m.\u001b[0m\u001b[0mtensor\u001b[0m\u001b[0;34m(\u001b[0m\u001b[0;34m[\u001b[0m\u001b[0;34m[\u001b[0m\u001b[0;36m0.4\u001b[0m\u001b[0;34m]\u001b[0m\u001b[0;34m,\u001b[0m\u001b[0;34m[\u001b[0m\u001b[0;36m0.2\u001b[0m\u001b[0;34m]\u001b[0m\u001b[0;34m,\u001b[0m\u001b[0;34m[\u001b[0m\u001b[0;36m0.3\u001b[0m\u001b[0;34m]\u001b[0m\u001b[0;34m]\u001b[0m\u001b[0;34m)\u001b[0m\u001b[0;34m\u001b[0m\u001b[0;34m\u001b[0m\u001b[0m\n\u001b[0;32m----> 2\u001b[0;31m \u001b[0mtorch\u001b[0m\u001b[0;34m.\u001b[0m\u001b[0mmatmul\u001b[0m\u001b[0;34m(\u001b[0m\u001b[0mkali\u001b[0m \u001b[0;34m,\u001b[0m \u001b[0mkalki\u001b[0m\u001b[0;34m)\u001b[0m\u001b[0;34m\u001b[0m\u001b[0;34m\u001b[0m\u001b[0m\n\u001b[0m",
            "\u001b[0;31mRuntimeError\u001b[0m: mat1 and mat2 shapes cannot be multiplied (3x1 and 2x3)"
          ]
        }
      ]
    },
    {
      "cell_type": "code",
      "source": [
        "tensor_a = torch.tensor([[5, 15, 25,],[23,3,4]])\n",
        "tensor_b = torch.tensor([[12,33,44],[1,55,2]])\n",
        "torch.mm(tensor_a, tensor_b.T)"
      ],
      "metadata": {
        "colab": {
          "base_uri": "https://localhost:8080/"
        },
        "id": "aRcEOCAge-HM",
        "outputId": "cf8dc00b-f0f5-40cd-ebdf-573d05dffd63"
      },
      "execution_count": 26,
      "outputs": [
        {
          "output_type": "execute_result",
          "data": {
            "text/plain": [
              "tensor([[1655,  880],\n",
              "        [ 551,  196]])"
            ]
          },
          "metadata": {},
          "execution_count": 26
        }
      ]
    },
    {
      "cell_type": "code",
      "source": [
        "djo = torch.arange(0,60,6)\n",
        "djo, djo.dtype, djo.size()"
      ],
      "metadata": {
        "colab": {
          "base_uri": "https://localhost:8080/"
        },
        "id": "DpCq7sQ7hip4",
        "outputId": "e834ecd8-ad6a-401b-8323-63ed4fa50c19"
      },
      "execution_count": 27,
      "outputs": [
        {
          "output_type": "execute_result",
          "data": {
            "text/plain": [
              "(tensor([ 0,  6, 12, 18, 24, 30, 36, 42, 48, 54]),\n",
              " torch.int64,\n",
              " torch.Size([10]))"
            ]
          },
          "metadata": {},
          "execution_count": 27
        }
      ]
    },
    {
      "cell_type": "code",
      "source": [
        "djo.max(), djo.min(), djo.mean(dtype=torch.float32), djo.sum()"
      ],
      "metadata": {
        "colab": {
          "base_uri": "https://localhost:8080/"
        },
        "id": "59I-WN7giVDz",
        "outputId": "d1643aea-bdc8-41d3-a0f9-91c0d7beff2f"
      },
      "execution_count": 28,
      "outputs": [
        {
          "output_type": "execute_result",
          "data": {
            "text/plain": [
              "(tensor(54), tensor(0), tensor(27.), tensor(270))"
            ]
          },
          "metadata": {},
          "execution_count": 28
        }
      ]
    },
    {
      "cell_type": "code",
      "source": [
        "djo.argmin(), torch.argmax(djo)"
      ],
      "metadata": {
        "colab": {
          "base_uri": "https://localhost:8080/"
        },
        "id": "5oHAGf5li7gx",
        "outputId": "bc012774-2183-4500-8adf-d895854c9bad"
      },
      "execution_count": 29,
      "outputs": [
        {
          "output_type": "execute_result",
          "data": {
            "text/plain": [
              "(tensor(0), tensor(9))"
            ]
          },
          "metadata": {},
          "execution_count": 29
        }
      ]
    },
    {
      "cell_type": "code",
      "source": [
        "x = torch.rand(1, 20, 2)\n",
        "x, x.shape"
      ],
      "metadata": {
        "id": "ACXlpsibjC3r",
        "colab": {
          "base_uri": "https://localhost:8080/"
        },
        "outputId": "9029f5b4-9c80-4646-c69e-b790957a4d81"
      },
      "execution_count": 30,
      "outputs": [
        {
          "output_type": "execute_result",
          "data": {
            "text/plain": [
              "(tensor([[[0.5577, 0.3677],\n",
              "          [0.1098, 0.2838],\n",
              "          [0.1451, 0.5606],\n",
              "          [0.1168, 0.7364],\n",
              "          [0.9112, 0.7489],\n",
              "          [0.5050, 0.4670],\n",
              "          [0.8279, 0.6918],\n",
              "          [0.3799, 0.1944],\n",
              "          [0.5158, 0.1501],\n",
              "          [0.1309, 0.1712],\n",
              "          [0.8513, 0.3358],\n",
              "          [0.3743, 0.1375],\n",
              "          [0.4005, 0.6997],\n",
              "          [0.7901, 0.8434],\n",
              "          [0.2858, 0.6817],\n",
              "          [0.4739, 0.7898],\n",
              "          [0.8293, 0.0525],\n",
              "          [0.8575, 0.4000],\n",
              "          [0.6177, 0.7778],\n",
              "          [0.9564, 0.0116]]]),\n",
              " torch.Size([1, 20, 2]))"
            ]
          },
          "metadata": {},
          "execution_count": 30
        }
      ]
    },
    {
      "cell_type": "code",
      "source": [
        "x_reshaped = x.reshape(2, 20)\n",
        "x_reshaped"
      ],
      "metadata": {
        "colab": {
          "base_uri": "https://localhost:8080/"
        },
        "id": "15FYBQKw_dBn",
        "outputId": "628c5b57-fbf3-41dc-b121-508aa0c6c755"
      },
      "execution_count": 31,
      "outputs": [
        {
          "output_type": "execute_result",
          "data": {
            "text/plain": [
              "tensor([[0.5577, 0.3677, 0.1098, 0.2838, 0.1451, 0.5606, 0.1168, 0.7364, 0.9112,\n",
              "         0.7489, 0.5050, 0.4670, 0.8279, 0.6918, 0.3799, 0.1944, 0.5158, 0.1501,\n",
              "         0.1309, 0.1712],\n",
              "        [0.8513, 0.3358, 0.3743, 0.1375, 0.4005, 0.6997, 0.7901, 0.8434, 0.2858,\n",
              "         0.6817, 0.4739, 0.7898, 0.8293, 0.0525, 0.8575, 0.4000, 0.6177, 0.7778,\n",
              "         0.9564, 0.0116]])"
            ]
          },
          "metadata": {},
          "execution_count": 31
        }
      ]
    },
    {
      "cell_type": "code",
      "source": [
        "x_view = x.view(2, 20)\n",
        "x_view"
      ],
      "metadata": {
        "colab": {
          "base_uri": "https://localhost:8080/"
        },
        "id": "CKrbO5Uj_dEg",
        "outputId": "cb883fa6-37b3-4fe4-cae1-9bb5db3e1246"
      },
      "execution_count": 32,
      "outputs": [
        {
          "output_type": "execute_result",
          "data": {
            "text/plain": [
              "tensor([[0.5577, 0.3677, 0.1098, 0.2838, 0.1451, 0.5606, 0.1168, 0.7364, 0.9112,\n",
              "         0.7489, 0.5050, 0.4670, 0.8279, 0.6918, 0.3799, 0.1944, 0.5158, 0.1501,\n",
              "         0.1309, 0.1712],\n",
              "        [0.8513, 0.3358, 0.3743, 0.1375, 0.4005, 0.6997, 0.7901, 0.8434, 0.2858,\n",
              "         0.6817, 0.4739, 0.7898, 0.8293, 0.0525, 0.8575, 0.4000, 0.6177, 0.7778,\n",
              "         0.9564, 0.0116]])"
            ]
          },
          "metadata": {},
          "execution_count": 32
        }
      ]
    },
    {
      "cell_type": "code",
      "source": [
        "x_stack = torch.randint(2, 12, (2,2))\n",
        "x_stack, x_stack.shape"
      ],
      "metadata": {
        "colab": {
          "base_uri": "https://localhost:8080/"
        },
        "id": "IiYN1yuCAw2E",
        "outputId": "e8c66d7b-4d96-4893-ffe1-73055bf5747f"
      },
      "execution_count": 33,
      "outputs": [
        {
          "output_type": "execute_result",
          "data": {
            "text/plain": [
              "(tensor([[ 8,  5],\n",
              "         [10, 10]]),\n",
              " torch.Size([2, 2]))"
            ]
          },
          "metadata": {},
          "execution_count": 33
        }
      ]
    },
    {
      "cell_type": "code",
      "source": [
        "x_stackk = x_stack.reshape(1,4)\n",
        "x_stackk"
      ],
      "metadata": {
        "colab": {
          "base_uri": "https://localhost:8080/"
        },
        "id": "tbo8fx51Aw7k",
        "outputId": "17616df9-1baa-4152-e88d-5bf139e8beee"
      },
      "execution_count": 34,
      "outputs": [
        {
          "output_type": "execute_result",
          "data": {
            "text/plain": [
              "tensor([[ 8,  5, 10, 10]])"
            ]
          },
          "metadata": {},
          "execution_count": 34
        }
      ]
    },
    {
      "cell_type": "code",
      "source": [
        "x_stackkk = torch.stack([x_stackk,x_stackk], dim=2)\n",
        "x_stackkk"
      ],
      "metadata": {
        "colab": {
          "base_uri": "https://localhost:8080/"
        },
        "id": "upN5XEUxBfeo",
        "outputId": "781878a8-96a2-4ce4-a275-9c16315bf2cf"
      },
      "execution_count": 35,
      "outputs": [
        {
          "output_type": "execute_result",
          "data": {
            "text/plain": [
              "tensor([[[ 8,  8],\n",
              "         [ 5,  5],\n",
              "         [10, 10],\n",
              "         [10, 10]]])"
            ]
          },
          "metadata": {},
          "execution_count": 35
        }
      ]
    },
    {
      "cell_type": "code",
      "source": [
        "x_stackkk = torch.stack([x_stackk,x_stackk], dim=1)\n",
        "x_stackkk"
      ],
      "metadata": {
        "colab": {
          "base_uri": "https://localhost:8080/"
        },
        "id": "VGQLFHniBfhN",
        "outputId": "8efa3279-58b8-4aa1-db29-6bb459190d5a"
      },
      "execution_count": 36,
      "outputs": [
        {
          "output_type": "execute_result",
          "data": {
            "text/plain": [
              "tensor([[[ 8,  5, 10, 10],\n",
              "         [ 8,  5, 10, 10]]])"
            ]
          },
          "metadata": {},
          "execution_count": 36
        }
      ]
    },
    {
      "cell_type": "code",
      "source": [
        "dun = torch.rand([2,3,5])\n",
        "dun, dun.size()"
      ],
      "metadata": {
        "colab": {
          "base_uri": "https://localhost:8080/"
        },
        "id": "9g5lUmYWDajj",
        "outputId": "429a3240-7bfc-4824-f47a-59465d143594"
      },
      "execution_count": 37,
      "outputs": [
        {
          "output_type": "execute_result",
          "data": {
            "text/plain": [
              "(tensor([[[0.7711, 0.4011, 0.6854, 0.8714, 0.9710],\n",
              "          [0.9738, 0.4587, 0.8774, 0.8663, 0.7761],\n",
              "          [0.5397, 0.4978, 0.8521, 0.0961, 0.1219]],\n",
              " \n",
              "         [[0.3761, 0.2974, 0.5101, 0.4269, 0.0443],\n",
              "          [0.0606, 0.4353, 0.8327, 0.1574, 0.9429],\n",
              "          [0.4277, 0.4765, 0.8530, 0.0457, 0.6983]]]),\n",
              " torch.Size([2, 3, 5]))"
            ]
          },
          "metadata": {},
          "execution_count": 37
        }
      ]
    },
    {
      "cell_type": "code",
      "source": [
        "dun_permuted = torch.permute(dun, (2,1,0))\n",
        "dun_permuted, dun_permuted.shape"
      ],
      "metadata": {
        "colab": {
          "base_uri": "https://localhost:8080/"
        },
        "id": "lvxVbh59Eom3",
        "outputId": "1a36c911-7f2e-4feb-ea92-496dcc35f985"
      },
      "execution_count": 38,
      "outputs": [
        {
          "output_type": "execute_result",
          "data": {
            "text/plain": [
              "(tensor([[[0.7711, 0.3761],\n",
              "          [0.9738, 0.0606],\n",
              "          [0.5397, 0.4277]],\n",
              " \n",
              "         [[0.4011, 0.2974],\n",
              "          [0.4587, 0.4353],\n",
              "          [0.4978, 0.4765]],\n",
              " \n",
              "         [[0.6854, 0.5101],\n",
              "          [0.8774, 0.8327],\n",
              "          [0.8521, 0.8530]],\n",
              " \n",
              "         [[0.8714, 0.4269],\n",
              "          [0.8663, 0.1574],\n",
              "          [0.0961, 0.0457]],\n",
              " \n",
              "         [[0.9710, 0.0443],\n",
              "          [0.7761, 0.9429],\n",
              "          [0.1219, 0.6983]]]),\n",
              " torch.Size([5, 3, 2]))"
            ]
          },
          "metadata": {},
          "execution_count": 38
        }
      ]
    },
    {
      "cell_type": "code",
      "source": [
        "x_index = torch.arange(1,10).reshape(1,3,3)\n",
        "x_index"
      ],
      "metadata": {
        "id": "WRv2cyjyE64f",
        "colab": {
          "base_uri": "https://localhost:8080/"
        },
        "outputId": "c94f58a6-df22-4bc2-9a87-ecc7edaf4f42"
      },
      "execution_count": 39,
      "outputs": [
        {
          "output_type": "execute_result",
          "data": {
            "text/plain": [
              "tensor([[[1, 2, 3],\n",
              "         [4, 5, 6],\n",
              "         [7, 8, 9]]])"
            ]
          },
          "metadata": {},
          "execution_count": 39
        }
      ]
    },
    {
      "cell_type": "code",
      "source": [
        "x_index[:,2,2]"
      ],
      "metadata": {
        "colab": {
          "base_uri": "https://localhost:8080/"
        },
        "id": "EzrGegWRciwT",
        "outputId": "a899dd22-e337-47f0-9b3e-531f53c00d9b"
      },
      "execution_count": 40,
      "outputs": [
        {
          "output_type": "execute_result",
          "data": {
            "text/plain": [
              "tensor([9])"
            ]
          },
          "metadata": {},
          "execution_count": 40
        }
      ]
    },
    {
      "cell_type": "code",
      "source": [
        "x_index[0,:,2]"
      ],
      "metadata": {
        "colab": {
          "base_uri": "https://localhost:8080/"
        },
        "id": "3L7C2l45ci2E",
        "outputId": "988dccf1-ede4-4ce6-99c8-253251f7ff49"
      },
      "execution_count": 41,
      "outputs": [
        {
          "output_type": "execute_result",
          "data": {
            "text/plain": [
              "tensor([3, 6, 9])"
            ]
          },
          "metadata": {},
          "execution_count": 41
        }
      ]
    },
    {
      "cell_type": "code",
      "source": [
        "# NumPy array to tensor\n",
        "import torch\n",
        "import numpy as np\n",
        "array = np.arange(1.0, 8.0)\n",
        "tensor = torch.from_numpy(array)\n",
        "array, tensor"
      ],
      "metadata": {
        "colab": {
          "base_uri": "https://localhost:8080/"
        },
        "id": "TGDsHmZ3gFtI",
        "outputId": "28be2799-a6a8-4137-8c19-fd29668b83b0"
      },
      "execution_count": 42,
      "outputs": [
        {
          "output_type": "execute_result",
          "data": {
            "text/plain": [
              "(array([1., 2., 3., 4., 5., 6., 7.]),\n",
              " tensor([1., 2., 3., 4., 5., 6., 7.], dtype=torch.float64))"
            ]
          },
          "metadata": {},
          "execution_count": 42
        }
      ]
    },
    {
      "cell_type": "code",
      "source": [
        "tensor = torch.from_numpy(array).type(torch.float32)\n",
        "tensor.dtype"
      ],
      "metadata": {
        "colab": {
          "base_uri": "https://localhost:8080/"
        },
        "id": "UOjUguzygr4C",
        "outputId": "bb9c1c6b-8474-48ad-9292-32fbff9cbb5c"
      },
      "execution_count": 43,
      "outputs": [
        {
          "output_type": "execute_result",
          "data": {
            "text/plain": [
              "torch.float32"
            ]
          },
          "metadata": {},
          "execution_count": 43
        }
      ]
    },
    {
      "cell_type": "code",
      "source": [
        "import torch\n",
        "import random\n",
        "\n",
        "MANUAL_SEED = 42\n",
        "torch.manual_seed(seed = MANUAL_SEED)\n",
        "random_seed_C = torch.rand(3,4)\n",
        "\n",
        "torch.random.manual_seed(seed = MANUAL_SEED)\n",
        "random_seed_D = torch.rand(3,4)\n",
        "\n",
        "\n",
        "random_seed_C, random_seed_D, random_seed_C == random_seed_D\n"
      ],
      "metadata": {
        "colab": {
          "base_uri": "https://localhost:8080/"
        },
        "id": "wWOjDqNhh6oU",
        "outputId": "bae0dbb6-70e7-4e9d-d9df-c215b9dbe365"
      },
      "execution_count": 49,
      "outputs": [
        {
          "output_type": "execute_result",
          "data": {
            "text/plain": [
              "(tensor([[0.8823, 0.9150, 0.3829, 0.9593],\n",
              "         [0.3904, 0.6009, 0.2566, 0.7936],\n",
              "         [0.9408, 0.1332, 0.9346, 0.5936]]),\n",
              " tensor([[0.8823, 0.9150, 0.3829, 0.9593],\n",
              "         [0.3904, 0.6009, 0.2566, 0.7936],\n",
              "         [0.9408, 0.1332, 0.9346, 0.5936]]),\n",
              " tensor([[True, True, True, True],\n",
              "         [True, True, True, True],\n",
              "         [True, True, True, True]]))"
            ]
          },
          "metadata": {},
          "execution_count": 49
        }
      ]
    },
    {
      "cell_type": "code",
      "source": [
        "!nvidia-smi\n"
      ],
      "metadata": {
        "colab": {
          "base_uri": "https://localhost:8080/"
        },
        "id": "3wuGxxYqINM4",
        "outputId": "662eff9b-ca49-4715-b854-e995e8e91ef8"
      },
      "execution_count": 50,
      "outputs": [
        {
          "output_type": "stream",
          "name": "stdout",
          "text": [
            "Thu Jul 11 09:30:05 2024       \n",
            "+---------------------------------------------------------------------------------------+\n",
            "| NVIDIA-SMI 535.104.05             Driver Version: 535.104.05   CUDA Version: 12.2     |\n",
            "|-----------------------------------------+----------------------+----------------------+\n",
            "| GPU  Name                 Persistence-M | Bus-Id        Disp.A | Volatile Uncorr. ECC |\n",
            "| Fan  Temp   Perf          Pwr:Usage/Cap |         Memory-Usage | GPU-Util  Compute M. |\n",
            "|                                         |                      |               MIG M. |\n",
            "|=========================================+======================+======================|\n",
            "|   0  Tesla T4                       Off | 00000000:00:04.0 Off |                    0 |\n",
            "| N/A   40C    P8              11W /  70W |      0MiB / 15360MiB |      0%      Default |\n",
            "|                                         |                      |                  N/A |\n",
            "+-----------------------------------------+----------------------+----------------------+\n",
            "                                                                                         \n",
            "+---------------------------------------------------------------------------------------+\n",
            "| Processes:                                                                            |\n",
            "|  GPU   GI   CI        PID   Type   Process name                            GPU Memory |\n",
            "|        ID   ID                                                             Usage      |\n",
            "|=======================================================================================|\n",
            "|  No running processes found                                                           |\n",
            "+---------------------------------------------------------------------------------------+\n"
          ]
        }
      ]
    },
    {
      "cell_type": "code",
      "source": [
        "import torch\n",
        "torch.cuda.is_available()"
      ],
      "metadata": {
        "colab": {
          "base_uri": "https://localhost:8080/"
        },
        "id": "1Z-e6qQnPqOM",
        "outputId": "b194ee8a-a239-45c3-97cc-99876d9aaaab"
      },
      "execution_count": 1,
      "outputs": [
        {
          "output_type": "execute_result",
          "data": {
            "text/plain": [
              "False"
            ]
          },
          "metadata": {},
          "execution_count": 1
        }
      ]
    },
    {
      "cell_type": "code",
      "source": [],
      "metadata": {
        "id": "xkDkzd4XP4fQ"
      },
      "execution_count": null,
      "outputs": []
    }
  ]
}